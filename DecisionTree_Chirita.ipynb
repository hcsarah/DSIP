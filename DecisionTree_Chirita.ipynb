{
  "nbformat": 4,
  "nbformat_minor": 0,
  "metadata": {
    "colab": {
      "name": "DecisionTree - Chirita.ipynb",
      "provenance": []
    },
    "kernelspec": {
      "name": "python3",
      "display_name": "Python 3"
    }
  },
  "cells": [
    {
      "cell_type": "code",
      "metadata": {
        "id": "b_BGMMpDhhYw"
      },
      "source": [
        "import pandas as pd\r\n",
        "import numpy as np"
      ],
      "execution_count": 1,
      "outputs": []
    },
    {
      "cell_type": "code",
      "metadata": {
        "id": "wi94Bs96hxlr"
      },
      "source": [
        "data = pd.read_csv(\"trainDatasetClean.csv\")"
      ],
      "execution_count": 8,
      "outputs": []
    },
    {
      "cell_type": "code",
      "metadata": {
        "id": "ZPi3ksT1iAZa"
      },
      "source": [
        "data_X = data.drop(['Unnamed: 0','Loan_Status'],axis=1)\r\n",
        "data_y = data['Loan_Status']\r\n"
      ],
      "execution_count": 13,
      "outputs": []
    },
    {
      "cell_type": "code",
      "metadata": {
        "colab": {
          "base_uri": "https://localhost:8080/"
        },
        "id": "EEIGmASsiG-o",
        "outputId": "a47f53fd-bfc7-4156-a969-b99da179dcb4"
      },
      "source": [
        "from sklearn.feature_selection import SelectKBest\r\n",
        "from sklearn.feature_selection import chi2\r\n",
        "# Feature extraction\r\n",
        "test = SelectKBest(score_func=chi2, k=4)\r\n",
        "fit = test.fit(data_X,data_y)\r\n",
        "\r\n",
        "# Summarize scores\r\n",
        "np.set_printoptions(precision=3)\r\n",
        "print(fit.scores_)"
      ],
      "execution_count": 14,
      "outputs": [
        {
          "output_type": "stream",
          "text": [
            "[9.390e+01 1.134e+04 3.952e+01 3.779e+00 2.353e-03 7.684e-01 1.996e+00\n",
            " 3.842e-01 4.368e-02 1.007e-02 3.174e+00 1.698e+00 9.884e-01 3.541e+00\n",
            " 1.123e-03 7.285e-03 4.411e+00 7.103e+00 7.839e-01 1.424e+02 2.737e+01]\n"
          ],
          "name": "stdout"
        }
      ]
    },
    {
      "cell_type": "code",
      "metadata": {
        "id": "I6H27QQAjDlJ"
      },
      "source": [
        "data_test = data_X\r\n",
        "\r\n",
        "data_test.loc[data_test['Dependents_2'] == 1, 'Dependents_1'] = 1\r\n",
        "data_test.loc[data_test['Dependents_3+'] == 1, 'Dependents_1'] = 1"
      ],
      "execution_count": 15,
      "outputs": []
    },
    {
      "cell_type": "code",
      "metadata": {
        "colab": {
          "base_uri": "https://localhost:8080/"
        },
        "id": "8Rh3Wp3ljHMU",
        "outputId": "ce1c1850-8500-4058-c28f-73936747a264"
      },
      "source": [
        "from sklearn.tree import DecisionTreeClassifier\r\n",
        "from sklearn.model_selection import train_test_split\r\n",
        "\r\n",
        "\r\n",
        "\r\n",
        "testchi=data_test.drop(['ApplicantIncome', 'CoapplicantIncome', 'LoanAmount',\r\n",
        "       'Loan_Amount_Term', 'Dependents_0','Dependents_3+','Dependents_2', 'Gender_Female', 'Gender_Male', 'Married_No','Education_Graduate', 'Education_Not Graduate',\r\n",
        "       'Self_Employed_No'],axis=1)\r\n",
        "X_train, X_test, y_train, y_test = train_test_split(testchi, data_y, test_size=0.3, random_state=0)\r\n",
        "Dtree = DecisionTreeClassifier(criterion = 'entropy').fit(X_train,y_train)\r\n",
        "y_pred = Dtree.predict(X_test)\r\n",
        "print(\"The prediction accuracy is: \",Dtree.score(X_test,y_test)*100,\"%\")"
      ],
      "execution_count": 16,
      "outputs": [
        {
          "output_type": "stream",
          "text": [
            "The prediction accuracy is:  81.62162162162161 %\n"
          ],
          "name": "stdout"
        }
      ]
    },
    {
      "cell_type": "code",
      "metadata": {
        "colab": {
          "base_uri": "https://localhost:8080/"
        },
        "id": "hB18i-PTjJL_",
        "outputId": "0273b090-1503-44ee-fc12-447e63554a6a"
      },
      "source": [
        "from sklearn.metrics import classification_report, confusion_matrix  \r\n",
        "print(confusion_matrix(y_test, y_pred))  \r\n",
        "print(classification_report(y_test, y_pred))"
      ],
      "execution_count": 17,
      "outputs": [
        {
          "output_type": "stream",
          "text": [
            "[[ 21  30]\n",
            " [  4 130]]\n",
            "              precision    recall  f1-score   support\n",
            "\n",
            "           N       0.84      0.41      0.55        51\n",
            "           Y       0.81      0.97      0.88       134\n",
            "\n",
            "    accuracy                           0.82       185\n",
            "   macro avg       0.83      0.69      0.72       185\n",
            "weighted avg       0.82      0.82      0.79       185\n",
            "\n"
          ],
          "name": "stdout"
        }
      ]
    },
    {
      "cell_type": "code",
      "metadata": {
        "colab": {
          "base_uri": "https://localhost:8080/",
          "height": 893
        },
        "id": "xWmJSWpljMAc",
        "outputId": "6df5045c-abcf-4034-e1ba-4005127b86d9"
      },
      "source": [
        "import graphviz \r\n",
        "import matplotlib.pyplot as plt\r\n",
        "\r\n",
        "from sklearn import tree\r\n",
        "dot_data = tree.export_graphviz(Dtree, out_file=None, \r\n",
        "                      feature_names=testchi.columns,max_depth=4,  \r\n",
        "                      class_names=['0','1'],  \r\n",
        "                      filled=True, rounded=True,  \r\n",
        "                      special_characters=True)  \r\n",
        "graph = graphviz.Source(dot_data)\r\n",
        "from IPython.display import SVG\r\n",
        "SVG(graph.pipe(format='svg'))\r\n"
      ],
      "execution_count": 18,
      "outputs": [
        {
          "output_type": "execute_result",
          "data": {
            "text/plain": [
              "<IPython.core.display.SVG object>"
            ],
            "image/svg+xml": "<svg height=\"639pt\" viewBox=\"0.00 0.00 2266.50 639.00\" width=\"2267pt\" xmlns=\"http://www.w3.org/2000/svg\" xmlns:xlink=\"http://www.w3.org/1999/xlink\">\n<g class=\"graph\" id=\"graph0\" transform=\"scale(1 1) rotate(0) translate(4 635)\">\n<title>Tree</title>\n<polygon fill=\"#ffffff\" points=\"-4,4 -4,-635 2262.5,-635 2262.5,4 -4,4\" stroke=\"transparent\"/>\n<!-- 0 -->\n<g class=\"node\" id=\"node1\">\n<title>0</title>\n<path d=\"M1527,-631C1527,-631 1391,-631 1391,-631 1385,-631 1379,-625 1379,-619 1379,-619 1379,-560 1379,-560 1379,-554 1385,-548 1391,-548 1391,-548 1527,-548 1527,-548 1533,-548 1539,-554 1539,-560 1539,-560 1539,-619 1539,-619 1539,-625 1533,-631 1527,-631\" fill=\"#9acdf2\" stroke=\"#000000\"/>\n<text fill=\"#000000\" font-family=\"Helvetica,sans-Serif\" font-size=\"14.00\" text-anchor=\"start\" x=\"1387\" y=\"-615.8\">Credit_History_0 ≤ 0.5</text>\n<text fill=\"#000000\" font-family=\"Helvetica,sans-Serif\" font-size=\"14.00\" text-anchor=\"start\" x=\"1408\" y=\"-600.8\">entropy = 0.914</text>\n<text fill=\"#000000\" font-family=\"Helvetica,sans-Serif\" font-size=\"14.00\" text-anchor=\"start\" x=\"1411\" y=\"-585.8\">samples = 429</text>\n<text fill=\"#000000\" font-family=\"Helvetica,sans-Serif\" font-size=\"14.00\" text-anchor=\"start\" x=\"1401\" y=\"-570.8\">value = [141, 288]</text>\n<text fill=\"#000000\" font-family=\"Helvetica,sans-Serif\" font-size=\"14.00\" text-anchor=\"start\" x=\"1430\" y=\"-555.8\">class = 1</text>\n</g>\n<!-- 1 -->\n<g class=\"node\" id=\"node2\">\n<title>1</title>\n<path d=\"M1250,-512C1250,-512 1050,-512 1050,-512 1044,-512 1038,-506 1038,-500 1038,-500 1038,-441 1038,-441 1038,-435 1044,-429 1050,-429 1050,-429 1250,-429 1250,-429 1256,-429 1262,-435 1262,-441 1262,-441 1262,-500 1262,-500 1262,-506 1256,-512 1250,-512\" fill=\"#70b8ec\" stroke=\"#000000\"/>\n<text fill=\"#000000\" font-family=\"Helvetica,sans-Serif\" font-size=\"14.00\" text-anchor=\"start\" x=\"1046\" y=\"-496.8\">Property_Area_Semiurban ≤ 0.5</text>\n<text fill=\"#000000\" font-family=\"Helvetica,sans-Serif\" font-size=\"14.00\" text-anchor=\"start\" x=\"1099\" y=\"-481.8\">entropy = 0.753</text>\n<text fill=\"#000000\" font-family=\"Helvetica,sans-Serif\" font-size=\"14.00\" text-anchor=\"start\" x=\"1102\" y=\"-466.8\">samples = 356</text>\n<text fill=\"#000000\" font-family=\"Helvetica,sans-Serif\" font-size=\"14.00\" text-anchor=\"start\" x=\"1096\" y=\"-451.8\">value = [77, 279]</text>\n<text fill=\"#000000\" font-family=\"Helvetica,sans-Serif\" font-size=\"14.00\" text-anchor=\"start\" x=\"1121\" y=\"-436.8\">class = 1</text>\n</g>\n<!-- 0&#45;&gt;1 -->\n<g class=\"edge\" id=\"edge1\">\n<title>0-&gt;1</title>\n<path d=\"M1378.6205,-558.5448C1344.6617,-545.4668 1304.4418,-529.9776 1267.2774,-515.6651\" fill=\"none\" stroke=\"#000000\"/>\n<polygon fill=\"#000000\" points=\"1268.4901,-512.3816 1257.9003,-512.0538 1265.9744,-518.9139 1268.4901,-512.3816\" stroke=\"#000000\"/>\n<text fill=\"#000000\" font-family=\"Helvetica,sans-Serif\" font-size=\"14.00\" text-anchor=\"middle\" x=\"1268.0439\" y=\"-531.2035\">True</text>\n</g>\n<!-- 44 -->\n<g class=\"node\" id=\"node33\">\n<title>44</title>\n<path d=\"M1832,-512C1832,-512 1674,-512 1674,-512 1668,-512 1662,-506 1662,-500 1662,-500 1662,-441 1662,-441 1662,-435 1668,-429 1674,-429 1674,-429 1832,-429 1832,-429 1838,-429 1844,-435 1844,-441 1844,-441 1844,-500 1844,-500 1844,-506 1838,-512 1832,-512\" fill=\"#e99355\" stroke=\"#000000\"/>\n<text fill=\"#000000\" font-family=\"Helvetica,sans-Serif\" font-size=\"14.00\" text-anchor=\"start\" x=\"1670\" y=\"-496.8\">Self_Employed_Yes ≤ 0.5</text>\n<text fill=\"#000000\" font-family=\"Helvetica,sans-Serif\" font-size=\"14.00\" text-anchor=\"start\" x=\"1702\" y=\"-481.8\">entropy = 0.539</text>\n<text fill=\"#000000\" font-family=\"Helvetica,sans-Serif\" font-size=\"14.00\" text-anchor=\"start\" x=\"1709\" y=\"-466.8\">samples = 73</text>\n<text fill=\"#000000\" font-family=\"Helvetica,sans-Serif\" font-size=\"14.00\" text-anchor=\"start\" x=\"1707.5\" y=\"-451.8\">value = [64, 9]</text>\n<text fill=\"#000000\" font-family=\"Helvetica,sans-Serif\" font-size=\"14.00\" text-anchor=\"start\" x=\"1724\" y=\"-436.8\">class = 0</text>\n</g>\n<!-- 0&#45;&gt;44 -->\n<g class=\"edge\" id=\"edge32\">\n<title>0-&gt;44</title>\n<path d=\"M1539.3368,-556.9827C1574.2883,-542.8357 1615.6187,-526.1067 1652.5708,-511.1499\" fill=\"none\" stroke=\"#000000\"/>\n<polygon fill=\"#000000\" points=\"1653.9082,-514.3845 1661.8645,-507.3882 1651.2818,-507.8959 1653.9082,-514.3845\" stroke=\"#000000\"/>\n<text fill=\"#000000\" font-family=\"Helvetica,sans-Serif\" font-size=\"14.00\" text-anchor=\"middle\" x=\"1652.1107\" y=\"-526.707\">False</text>\n</g>\n<!-- 2 -->\n<g class=\"node\" id=\"node3\">\n<title>2</title>\n<path d=\"M671,-393C671,-393 547,-393 547,-393 541,-393 535,-387 535,-381 535,-381 535,-322 535,-322 535,-316 541,-310 547,-310 547,-310 671,-310 671,-310 677,-310 683,-316 683,-322 683,-322 683,-381 683,-381 683,-387 677,-393 671,-393\" fill=\"#7cbeee\" stroke=\"#000000\"/>\n<text fill=\"#000000\" font-family=\"Helvetica,sans-Serif\" font-size=\"14.00\" text-anchor=\"start\" x=\"543\" y=\"-377.8\">Dependents_1 ≤ 0.5</text>\n<text fill=\"#000000\" font-family=\"Helvetica,sans-Serif\" font-size=\"14.00\" text-anchor=\"start\" x=\"558\" y=\"-362.8\">entropy = 0.817</text>\n<text fill=\"#000000\" font-family=\"Helvetica,sans-Serif\" font-size=\"14.00\" text-anchor=\"start\" x=\"561\" y=\"-347.8\">samples = 217</text>\n<text fill=\"#000000\" font-family=\"Helvetica,sans-Serif\" font-size=\"14.00\" text-anchor=\"start\" x=\"555\" y=\"-332.8\">value = [55, 162]</text>\n<text fill=\"#000000\" font-family=\"Helvetica,sans-Serif\" font-size=\"14.00\" text-anchor=\"start\" x=\"580\" y=\"-317.8\">class = 1</text>\n</g>\n<!-- 1&#45;&gt;2 -->\n<g class=\"edge\" id=\"edge2\">\n<title>1-&gt;2</title>\n<path d=\"M1037.9045,-445.8431C935.3299,-423.2805 785.8343,-390.397 693.1429,-370.0083\" fill=\"none\" stroke=\"#000000\"/>\n<polygon fill=\"#000000\" points=\"693.7603,-366.5605 683.2419,-367.8305 692.2565,-373.3971 693.7603,-366.5605\" stroke=\"#000000\"/>\n</g>\n<!-- 29 -->\n<g class=\"node\" id=\"node18\">\n<title>29</title>\n<path d=\"M1204.5,-393C1204.5,-393 1095.5,-393 1095.5,-393 1089.5,-393 1083.5,-387 1083.5,-381 1083.5,-381 1083.5,-322 1083.5,-322 1083.5,-316 1089.5,-310 1095.5,-310 1095.5,-310 1204.5,-310 1204.5,-310 1210.5,-310 1216.5,-316 1216.5,-322 1216.5,-322 1216.5,-381 1216.5,-381 1216.5,-387 1210.5,-393 1204.5,-393\" fill=\"#5eafea\" stroke=\"#000000\"/>\n<text fill=\"#000000\" font-family=\"Helvetica,sans-Serif\" font-size=\"14.00\" text-anchor=\"start\" x=\"1091.5\" y=\"-377.8\">Married_Yes ≤ 0.5</text>\n<text fill=\"#000000\" font-family=\"Helvetica,sans-Serif\" font-size=\"14.00\" text-anchor=\"start\" x=\"1103\" y=\"-362.8\">entropy = 0.63</text>\n<text fill=\"#000000\" font-family=\"Helvetica,sans-Serif\" font-size=\"14.00\" text-anchor=\"start\" x=\"1102\" y=\"-347.8\">samples = 139</text>\n<text fill=\"#000000\" font-family=\"Helvetica,sans-Serif\" font-size=\"14.00\" text-anchor=\"start\" x=\"1096\" y=\"-332.8\">value = [22, 117]</text>\n<text fill=\"#000000\" font-family=\"Helvetica,sans-Serif\" font-size=\"14.00\" text-anchor=\"start\" x=\"1121\" y=\"-317.8\">class = 1</text>\n</g>\n<!-- 1&#45;&gt;29 -->\n<g class=\"edge\" id=\"edge17\">\n<title>1-&gt;29</title>\n<path d=\"M1150,-428.8796C1150,-420.6838 1150,-411.9891 1150,-403.5013\" fill=\"none\" stroke=\"#000000\"/>\n<polygon fill=\"#000000\" points=\"1153.5001,-403.298 1150,-393.2981 1146.5001,-403.2981 1153.5001,-403.298\" stroke=\"#000000\"/>\n</g>\n<!-- 3 -->\n<g class=\"node\" id=\"node4\">\n<title>3</title>\n<path d=\"M385,-274C385,-274 227,-274 227,-274 221,-274 215,-268 215,-262 215,-262 215,-203 215,-203 215,-197 221,-191 227,-191 227,-191 385,-191 385,-191 391,-191 397,-197 397,-203 397,-203 397,-262 397,-262 397,-268 391,-274 385,-274\" fill=\"#89c5f0\" stroke=\"#000000\"/>\n<text fill=\"#000000\" font-family=\"Helvetica,sans-Serif\" font-size=\"14.00\" text-anchor=\"start\" x=\"223\" y=\"-258.8\">Self_Employed_Yes ≤ 0.5</text>\n<text fill=\"#000000\" font-family=\"Helvetica,sans-Serif\" font-size=\"14.00\" text-anchor=\"start\" x=\"255\" y=\"-243.8\">entropy = 0.866</text>\n<text fill=\"#000000\" font-family=\"Helvetica,sans-Serif\" font-size=\"14.00\" text-anchor=\"start\" x=\"258\" y=\"-228.8\">samples = 125</text>\n<text fill=\"#000000\" font-family=\"Helvetica,sans-Serif\" font-size=\"14.00\" text-anchor=\"start\" x=\"256\" y=\"-213.8\">value = [36, 89]</text>\n<text fill=\"#000000\" font-family=\"Helvetica,sans-Serif\" font-size=\"14.00\" text-anchor=\"start\" x=\"277\" y=\"-198.8\">class = 1</text>\n</g>\n<!-- 2&#45;&gt;3 -->\n<g class=\"edge\" id=\"edge3\">\n<title>2-&gt;3</title>\n<path d=\"M534.8779,-322.3893C496.2749,-307.2284 448.5098,-288.4692 406.6174,-272.0164\" fill=\"none\" stroke=\"#000000\"/>\n<polygon fill=\"#000000\" points=\"407.8071,-268.7234 397.2197,-268.3256 405.2481,-275.239 407.8071,-268.7234\" stroke=\"#000000\"/>\n</g>\n<!-- 16 -->\n<g class=\"node\" id=\"node11\">\n<title>16</title>\n<path d=\"M663.5,-274C663.5,-274 554.5,-274 554.5,-274 548.5,-274 542.5,-268 542.5,-262 542.5,-262 542.5,-203 542.5,-203 542.5,-197 548.5,-191 554.5,-191 554.5,-191 663.5,-191 663.5,-191 669.5,-191 675.5,-197 675.5,-203 675.5,-203 675.5,-262 675.5,-262 675.5,-268 669.5,-274 663.5,-274\" fill=\"#6db7ec\" stroke=\"#000000\"/>\n<text fill=\"#000000\" font-family=\"Helvetica,sans-Serif\" font-size=\"14.00\" text-anchor=\"start\" x=\"550.5\" y=\"-258.8\">Married_Yes ≤ 0.5</text>\n<text fill=\"#000000\" font-family=\"Helvetica,sans-Serif\" font-size=\"14.00\" text-anchor=\"start\" x=\"558\" y=\"-243.8\">entropy = 0.735</text>\n<text fill=\"#000000\" font-family=\"Helvetica,sans-Serif\" font-size=\"14.00\" text-anchor=\"start\" x=\"565\" y=\"-228.8\">samples = 92</text>\n<text fill=\"#000000\" font-family=\"Helvetica,sans-Serif\" font-size=\"14.00\" text-anchor=\"start\" x=\"559\" y=\"-213.8\">value = [19, 73]</text>\n<text fill=\"#000000\" font-family=\"Helvetica,sans-Serif\" font-size=\"14.00\" text-anchor=\"start\" x=\"580\" y=\"-198.8\">class = 1</text>\n</g>\n<!-- 2&#45;&gt;16 -->\n<g class=\"edge\" id=\"edge10\">\n<title>2-&gt;16</title>\n<path d=\"M609,-309.8796C609,-301.6838 609,-292.9891 609,-284.5013\" fill=\"none\" stroke=\"#000000\"/>\n<polygon fill=\"#000000\" points=\"612.5001,-284.298 609,-274.2981 605.5001,-284.2981 612.5001,-284.298\" stroke=\"#000000\"/>\n</g>\n<!-- 4 -->\n<g class=\"node\" id=\"node5\">\n<title>4</title>\n<path d=\"M182,-155C182,-155 12,-155 12,-155 6,-155 0,-149 0,-143 0,-143 0,-84 0,-84 0,-78 6,-72 12,-72 12,-72 182,-72 182,-72 188,-72 194,-78 194,-84 194,-84 194,-143 194,-143 194,-149 188,-155 182,-155\" fill=\"#92c9f1\" stroke=\"#000000\"/>\n<text fill=\"#000000\" font-family=\"Helvetica,sans-Serif\" font-size=\"14.00\" text-anchor=\"start\" x=\"8\" y=\"-139.8\">Property_Area_Urban ≤ 0.5</text>\n<text fill=\"#000000\" font-family=\"Helvetica,sans-Serif\" font-size=\"14.00\" text-anchor=\"start\" x=\"46\" y=\"-124.8\">entropy = 0.892</text>\n<text fill=\"#000000\" font-family=\"Helvetica,sans-Serif\" font-size=\"14.00\" text-anchor=\"start\" x=\"49\" y=\"-109.8\">samples = 110</text>\n<text fill=\"#000000\" font-family=\"Helvetica,sans-Serif\" font-size=\"14.00\" text-anchor=\"start\" x=\"47\" y=\"-94.8\">value = [34, 76]</text>\n<text fill=\"#000000\" font-family=\"Helvetica,sans-Serif\" font-size=\"14.00\" text-anchor=\"start\" x=\"68\" y=\"-79.8\">class = 1</text>\n</g>\n<!-- 3&#45;&gt;4 -->\n<g class=\"edge\" id=\"edge4\">\n<title>3-&gt;4</title>\n<path d=\"M232.9019,-190.8796C215.5603,-181.0056 196.9467,-170.4075 179.2289,-160.3193\" fill=\"none\" stroke=\"#000000\"/>\n<polygon fill=\"#000000\" points=\"180.4787,-157.0034 170.0568,-155.0969 177.0151,-163.0865 180.4787,-157.0034\" stroke=\"#000000\"/>\n</g>\n<!-- 11 -->\n<g class=\"node\" id=\"node8\">\n<title>11</title>\n<path d=\"M388,-155C388,-155 224,-155 224,-155 218,-155 212,-149 212,-143 212,-143 212,-84 212,-84 212,-78 218,-72 224,-72 224,-72 388,-72 388,-72 394,-72 400,-78 400,-84 400,-84 400,-143 400,-143 400,-149 394,-155 388,-155\" fill=\"#57ace9\" stroke=\"#000000\"/>\n<text fill=\"#000000\" font-family=\"Helvetica,sans-Serif\" font-size=\"14.00\" text-anchor=\"start\" x=\"220\" y=\"-139.8\">Property_Area_Rural ≤ 0.5</text>\n<text fill=\"#000000\" font-family=\"Helvetica,sans-Serif\" font-size=\"14.00\" text-anchor=\"start\" x=\"255\" y=\"-124.8\">entropy = 0.567</text>\n<text fill=\"#000000\" font-family=\"Helvetica,sans-Serif\" font-size=\"14.00\" text-anchor=\"start\" x=\"262\" y=\"-109.8\">samples = 15</text>\n<text fill=\"#000000\" font-family=\"Helvetica,sans-Serif\" font-size=\"14.00\" text-anchor=\"start\" x=\"260.5\" y=\"-94.8\">value = [2, 13]</text>\n<text fill=\"#000000\" font-family=\"Helvetica,sans-Serif\" font-size=\"14.00\" text-anchor=\"start\" x=\"277\" y=\"-79.8\">class = 1</text>\n</g>\n<!-- 3&#45;&gt;11 -->\n<g class=\"edge\" id=\"edge7\">\n<title>3-&gt;11</title>\n<path d=\"M306,-190.8796C306,-182.6838 306,-173.9891 306,-165.5013\" fill=\"none\" stroke=\"#000000\"/>\n<polygon fill=\"#000000\" points=\"309.5001,-165.298 306,-155.2981 302.5001,-165.2981 309.5001,-165.298\" stroke=\"#000000\"/>\n</g>\n<!-- 5 -->\n<g class=\"node\" id=\"node6\">\n<title>5</title>\n<path d=\"M76,-36C76,-36 46,-36 46,-36 40,-36 34,-30 34,-24 34,-24 34,-12 34,-12 34,-6 40,0 46,0 46,0 76,0 76,0 82,0 88,-6 88,-12 88,-12 88,-24 88,-24 88,-30 82,-36 76,-36\" fill=\"#c0c0c0\" stroke=\"#000000\"/>\n<text fill=\"#000000\" font-family=\"Helvetica,sans-Serif\" font-size=\"14.00\" text-anchor=\"middle\" x=\"61\" y=\"-14.3\">(...)</text>\n</g>\n<!-- 4&#45;&gt;5 -->\n<g class=\"edge\" id=\"edge5\">\n<title>4-&gt;5</title>\n<path d=\"M81.3146,-71.8901C77.9739,-63.0279 74.525,-53.8788 71.4386,-45.6913\" fill=\"none\" stroke=\"#000000\"/>\n<polygon fill=\"#000000\" points=\"74.6877,-44.3878 67.8853,-36.2651 68.1376,-46.8569 74.6877,-44.3878\" stroke=\"#000000\"/>\n</g>\n<!-- 8 -->\n<g class=\"node\" id=\"node7\">\n<title>8</title>\n<path d=\"M148,-36C148,-36 118,-36 118,-36 112,-36 106,-30 106,-24 106,-24 106,-12 106,-12 106,-6 112,0 118,0 118,0 148,0 148,0 154,0 160,-6 160,-12 160,-12 160,-24 160,-24 160,-30 154,-36 148,-36\" fill=\"#c0c0c0\" stroke=\"#000000\"/>\n<text fill=\"#000000\" font-family=\"Helvetica,sans-Serif\" font-size=\"14.00\" text-anchor=\"middle\" x=\"133\" y=\"-14.3\">(...)</text>\n</g>\n<!-- 4&#45;&gt;8 -->\n<g class=\"edge\" id=\"edge6\">\n<title>4-&gt;8</title>\n<path d=\"M112.6854,-71.8901C116.0261,-63.0279 119.475,-53.8788 122.5614,-45.6913\" fill=\"none\" stroke=\"#000000\"/>\n<polygon fill=\"#000000\" points=\"125.8624,-46.8569 126.1147,-36.2651 119.3123,-44.3878 125.8624,-46.8569\" stroke=\"#000000\"/>\n</g>\n<!-- 12 -->\n<g class=\"node\" id=\"node9\">\n<title>12</title>\n<path d=\"M285,-36C285,-36 255,-36 255,-36 249,-36 243,-30 243,-24 243,-24 243,-12 243,-12 243,-6 249,0 255,0 255,0 285,0 285,0 291,0 297,-6 297,-12 297,-12 297,-24 297,-24 297,-30 291,-36 285,-36\" fill=\"#c0c0c0\" stroke=\"#000000\"/>\n<text fill=\"#000000\" font-family=\"Helvetica,sans-Serif\" font-size=\"14.00\" text-anchor=\"middle\" x=\"270\" y=\"-14.3\">(...)</text>\n</g>\n<!-- 11&#45;&gt;12 -->\n<g class=\"edge\" id=\"edge8\">\n<title>11-&gt;12</title>\n<path d=\"M290.3146,-71.8901C286.9739,-63.0279 283.525,-53.8788 280.4386,-45.6913\" fill=\"none\" stroke=\"#000000\"/>\n<polygon fill=\"#000000\" points=\"283.6877,-44.3878 276.8853,-36.2651 277.1376,-46.8569 283.6877,-44.3878\" stroke=\"#000000\"/>\n</g>\n<!-- 15 -->\n<g class=\"node\" id=\"node10\">\n<title>15</title>\n<path d=\"M357,-36C357,-36 327,-36 327,-36 321,-36 315,-30 315,-24 315,-24 315,-12 315,-12 315,-6 321,0 327,0 327,0 357,0 357,0 363,0 369,-6 369,-12 369,-12 369,-24 369,-24 369,-30 363,-36 357,-36\" fill=\"#c0c0c0\" stroke=\"#000000\"/>\n<text fill=\"#000000\" font-family=\"Helvetica,sans-Serif\" font-size=\"14.00\" text-anchor=\"middle\" x=\"342\" y=\"-14.3\">(...)</text>\n</g>\n<!-- 11&#45;&gt;15 -->\n<g class=\"edge\" id=\"edge9\">\n<title>11-&gt;15</title>\n<path d=\"M321.6854,-71.8901C325.0261,-63.0279 328.475,-53.8788 331.5614,-45.6913\" fill=\"none\" stroke=\"#000000\"/>\n<polygon fill=\"#000000\" points=\"334.8624,-46.8569 335.1147,-36.2651 328.3123,-44.3878 334.8624,-46.8569\" stroke=\"#000000\"/>\n</g>\n<!-- 17 -->\n<g class=\"node\" id=\"node12\">\n<title>17</title>\n<path d=\"M588,-155C588,-155 430,-155 430,-155 424,-155 418,-149 418,-143 418,-143 418,-84 418,-84 418,-78 424,-72 430,-72 430,-72 588,-72 588,-72 594,-72 600,-78 600,-84 600,-84 600,-143 600,-143 600,-149 594,-155 588,-155\" fill=\"#aad5f4\" stroke=\"#000000\"/>\n<text fill=\"#000000\" font-family=\"Helvetica,sans-Serif\" font-size=\"14.00\" text-anchor=\"start\" x=\"426\" y=\"-139.8\">Self_Employed_Yes ≤ 0.5</text>\n<text fill=\"#000000\" font-family=\"Helvetica,sans-Serif\" font-size=\"14.00\" text-anchor=\"start\" x=\"458\" y=\"-124.8\">entropy = 0.946</text>\n<text fill=\"#000000\" font-family=\"Helvetica,sans-Serif\" font-size=\"14.00\" text-anchor=\"start\" x=\"465\" y=\"-109.8\">samples = 11</text>\n<text fill=\"#000000\" font-family=\"Helvetica,sans-Serif\" font-size=\"14.00\" text-anchor=\"start\" x=\"467.5\" y=\"-94.8\">value = [4, 7]</text>\n<text fill=\"#000000\" font-family=\"Helvetica,sans-Serif\" font-size=\"14.00\" text-anchor=\"start\" x=\"480\" y=\"-79.8\">class = 1</text>\n</g>\n<!-- 16&#45;&gt;17 -->\n<g class=\"edge\" id=\"edge11\">\n<title>16-&gt;17</title>\n<path d=\"M574.0249,-190.8796C566.4565,-181.8733 558.3819,-172.2644 550.588,-162.9897\" fill=\"none\" stroke=\"#000000\"/>\n<polygon fill=\"#000000\" points=\"553.2374,-160.7022 544.1244,-155.2981 547.8784,-165.2056 553.2374,-160.7022\" stroke=\"#000000\"/>\n</g>\n<!-- 22 -->\n<g class=\"node\" id=\"node15\">\n<title>22</title>\n<path d=\"M788,-155C788,-155 630,-155 630,-155 624,-155 618,-149 618,-143 618,-143 618,-84 618,-84 618,-78 624,-72 630,-72 630,-72 788,-72 788,-72 794,-72 800,-78 800,-84 800,-84 800,-143 800,-143 800,-149 794,-155 788,-155\" fill=\"#66b3eb\" stroke=\"#000000\"/>\n<text fill=\"#000000\" font-family=\"Helvetica,sans-Serif\" font-size=\"14.00\" text-anchor=\"start\" x=\"626\" y=\"-139.8\">Self_Employed_Yes ≤ 0.5</text>\n<text fill=\"#000000\" font-family=\"Helvetica,sans-Serif\" font-size=\"14.00\" text-anchor=\"start\" x=\"658\" y=\"-124.8\">entropy = 0.691</text>\n<text fill=\"#000000\" font-family=\"Helvetica,sans-Serif\" font-size=\"14.00\" text-anchor=\"start\" x=\"665\" y=\"-109.8\">samples = 81</text>\n<text fill=\"#000000\" font-family=\"Helvetica,sans-Serif\" font-size=\"14.00\" text-anchor=\"start\" x=\"659\" y=\"-94.8\">value = [15, 66]</text>\n<text fill=\"#000000\" font-family=\"Helvetica,sans-Serif\" font-size=\"14.00\" text-anchor=\"start\" x=\"680\" y=\"-79.8\">class = 1</text>\n</g>\n<!-- 16&#45;&gt;22 -->\n<g class=\"edge\" id=\"edge14\">\n<title>16-&gt;22</title>\n<path d=\"M643.9751,-190.8796C651.5435,-181.8733 659.6181,-172.2644 667.412,-162.9897\" fill=\"none\" stroke=\"#000000\"/>\n<polygon fill=\"#000000\" points=\"670.1216,-165.2056 673.8756,-155.2981 664.7626,-160.7022 670.1216,-165.2056\" stroke=\"#000000\"/>\n</g>\n<!-- 18 -->\n<g class=\"node\" id=\"node13\">\n<title>18</title>\n<path d=\"M488,-36C488,-36 458,-36 458,-36 452,-36 446,-30 446,-24 446,-24 446,-12 446,-12 446,-6 452,0 458,0 458,0 488,0 488,0 494,0 500,-6 500,-12 500,-12 500,-24 500,-24 500,-30 494,-36 488,-36\" fill=\"#c0c0c0\" stroke=\"#000000\"/>\n<text fill=\"#000000\" font-family=\"Helvetica,sans-Serif\" font-size=\"14.00\" text-anchor=\"middle\" x=\"473\" y=\"-14.3\">(...)</text>\n</g>\n<!-- 17&#45;&gt;18 -->\n<g class=\"edge\" id=\"edge12\">\n<title>17-&gt;18</title>\n<path d=\"M493.3146,-71.8901C489.9739,-63.0279 486.525,-53.8788 483.4386,-45.6913\" fill=\"none\" stroke=\"#000000\"/>\n<polygon fill=\"#000000\" points=\"486.6877,-44.3878 479.8853,-36.2651 480.1376,-46.8569 486.6877,-44.3878\" stroke=\"#000000\"/>\n</g>\n<!-- 21 -->\n<g class=\"node\" id=\"node14\">\n<title>21</title>\n<path d=\"M560,-36C560,-36 530,-36 530,-36 524,-36 518,-30 518,-24 518,-24 518,-12 518,-12 518,-6 524,0 530,0 530,0 560,0 560,0 566,0 572,-6 572,-12 572,-12 572,-24 572,-24 572,-30 566,-36 560,-36\" fill=\"#c0c0c0\" stroke=\"#000000\"/>\n<text fill=\"#000000\" font-family=\"Helvetica,sans-Serif\" font-size=\"14.00\" text-anchor=\"middle\" x=\"545\" y=\"-14.3\">(...)</text>\n</g>\n<!-- 17&#45;&gt;21 -->\n<g class=\"edge\" id=\"edge13\">\n<title>17-&gt;21</title>\n<path d=\"M524.6854,-71.8901C528.0261,-63.0279 531.475,-53.8788 534.5614,-45.6913\" fill=\"none\" stroke=\"#000000\"/>\n<polygon fill=\"#000000\" points=\"537.8624,-46.8569 538.1147,-36.2651 531.3123,-44.3878 537.8624,-46.8569\" stroke=\"#000000\"/>\n</g>\n<!-- 23 -->\n<g class=\"node\" id=\"node16\">\n<title>23</title>\n<path d=\"M688,-36C688,-36 658,-36 658,-36 652,-36 646,-30 646,-24 646,-24 646,-12 646,-12 646,-6 652,0 658,0 658,0 688,0 688,0 694,0 700,-6 700,-12 700,-12 700,-24 700,-24 700,-30 694,-36 688,-36\" fill=\"#c0c0c0\" stroke=\"#000000\"/>\n<text fill=\"#000000\" font-family=\"Helvetica,sans-Serif\" font-size=\"14.00\" text-anchor=\"middle\" x=\"673\" y=\"-14.3\">(...)</text>\n</g>\n<!-- 22&#45;&gt;23 -->\n<g class=\"edge\" id=\"edge15\">\n<title>22-&gt;23</title>\n<path d=\"M693.3146,-71.8901C689.9739,-63.0279 686.525,-53.8788 683.4386,-45.6913\" fill=\"none\" stroke=\"#000000\"/>\n<polygon fill=\"#000000\" points=\"686.6877,-44.3878 679.8853,-36.2651 680.1376,-46.8569 686.6877,-44.3878\" stroke=\"#000000\"/>\n</g>\n<!-- 26 -->\n<g class=\"node\" id=\"node17\">\n<title>26</title>\n<path d=\"M760,-36C760,-36 730,-36 730,-36 724,-36 718,-30 718,-24 718,-24 718,-12 718,-12 718,-6 724,0 730,0 730,0 760,0 760,0 766,0 772,-6 772,-12 772,-12 772,-24 772,-24 772,-30 766,-36 760,-36\" fill=\"#c0c0c0\" stroke=\"#000000\"/>\n<text fill=\"#000000\" font-family=\"Helvetica,sans-Serif\" font-size=\"14.00\" text-anchor=\"middle\" x=\"745\" y=\"-14.3\">(...)</text>\n</g>\n<!-- 22&#45;&gt;26 -->\n<g class=\"edge\" id=\"edge16\">\n<title>22-&gt;26</title>\n<path d=\"M724.6854,-71.8901C728.0261,-63.0279 731.475,-53.8788 734.5614,-45.6913\" fill=\"none\" stroke=\"#000000\"/>\n<polygon fill=\"#000000\" points=\"737.8624,-46.8569 738.1147,-36.2651 731.3123,-44.3878 737.8624,-46.8569\" stroke=\"#000000\"/>\n</g>\n<!-- 30 -->\n<g class=\"node\" id=\"node19\">\n<title>30</title>\n<path d=\"M1137,-274C1137,-274 979,-274 979,-274 973,-274 967,-268 967,-262 967,-262 967,-203 967,-203 967,-197 973,-191 979,-191 979,-191 1137,-191 1137,-191 1143,-191 1149,-197 1149,-203 1149,-203 1149,-262 1149,-262 1149,-268 1143,-274 1137,-274\" fill=\"#6fb8ec\" stroke=\"#000000\"/>\n<text fill=\"#000000\" font-family=\"Helvetica,sans-Serif\" font-size=\"14.00\" text-anchor=\"start\" x=\"975\" y=\"-258.8\">Self_Employed_Yes ≤ 0.5</text>\n<text fill=\"#000000\" font-family=\"Helvetica,sans-Serif\" font-size=\"14.00\" text-anchor=\"start\" x=\"1011\" y=\"-243.8\">entropy = 0.75</text>\n<text fill=\"#000000\" font-family=\"Helvetica,sans-Serif\" font-size=\"14.00\" text-anchor=\"start\" x=\"1014\" y=\"-228.8\">samples = 42</text>\n<text fill=\"#000000\" font-family=\"Helvetica,sans-Serif\" font-size=\"14.00\" text-anchor=\"start\" x=\"1012.5\" y=\"-213.8\">value = [9, 33]</text>\n<text fill=\"#000000\" font-family=\"Helvetica,sans-Serif\" font-size=\"14.00\" text-anchor=\"start\" x=\"1029\" y=\"-198.8\">class = 1</text>\n</g>\n<!-- 29&#45;&gt;30 -->\n<g class=\"edge\" id=\"edge18\">\n<title>29-&gt;30</title>\n<path d=\"M1117.8229,-309.8796C1110.9296,-300.9633 1103.5798,-291.4565 1096.4761,-282.268\" fill=\"none\" stroke=\"#000000\"/>\n<polygon fill=\"#000000\" points=\"1099.1999,-280.0687 1090.3145,-274.2981 1093.6619,-284.3502 1099.1999,-280.0687\" stroke=\"#000000\"/>\n</g>\n<!-- 37 -->\n<g class=\"node\" id=\"node26\">\n<title>37</title>\n<path d=\"M1303,-274C1303,-274 1179,-274 1179,-274 1173,-274 1167,-268 1167,-262 1167,-262 1167,-203 1167,-203 1167,-197 1173,-191 1179,-191 1179,-191 1303,-191 1303,-191 1309,-191 1315,-197 1315,-203 1315,-203 1315,-262 1315,-262 1315,-268 1309,-274 1303,-274\" fill=\"#58ace9\" stroke=\"#000000\"/>\n<text fill=\"#000000\" font-family=\"Helvetica,sans-Serif\" font-size=\"14.00\" text-anchor=\"start\" x=\"1175\" y=\"-258.8\">Dependents_1 ≤ 0.5</text>\n<text fill=\"#000000\" font-family=\"Helvetica,sans-Serif\" font-size=\"14.00\" text-anchor=\"start\" x=\"1190\" y=\"-243.8\">entropy = 0.568</text>\n<text fill=\"#000000\" font-family=\"Helvetica,sans-Serif\" font-size=\"14.00\" text-anchor=\"start\" x=\"1197\" y=\"-228.8\">samples = 97</text>\n<text fill=\"#000000\" font-family=\"Helvetica,sans-Serif\" font-size=\"14.00\" text-anchor=\"start\" x=\"1191\" y=\"-213.8\">value = [13, 84]</text>\n<text fill=\"#000000\" font-family=\"Helvetica,sans-Serif\" font-size=\"14.00\" text-anchor=\"start\" x=\"1212\" y=\"-198.8\">class = 1</text>\n</g>\n<!-- 29&#45;&gt;37 -->\n<g class=\"edge\" id=\"edge25\">\n<title>29-&gt;37</title>\n<path d=\"M1181.8274,-309.8796C1188.6457,-300.9633 1195.9156,-291.4565 1202.9421,-282.268\" fill=\"none\" stroke=\"#000000\"/>\n<polygon fill=\"#000000\" points=\"1205.7425,-284.3678 1209.0368,-274.2981 1200.182,-280.1156 1205.7425,-284.3678\" stroke=\"#000000\"/>\n</g>\n<!-- 31 -->\n<g class=\"node\" id=\"node20\">\n<title>31</title>\n<path d=\"M954,-155C954,-155 830,-155 830,-155 824,-155 818,-149 818,-143 818,-143 818,-84 818,-84 818,-78 824,-72 830,-72 830,-72 954,-72 954,-72 960,-72 966,-78 966,-84 966,-84 966,-143 966,-143 966,-149 960,-155 954,-155\" fill=\"#69b5eb\" stroke=\"#000000\"/>\n<text fill=\"#000000\" font-family=\"Helvetica,sans-Serif\" font-size=\"14.00\" text-anchor=\"start\" x=\"826\" y=\"-139.8\">Dependents_1 ≤ 0.5</text>\n<text fill=\"#000000\" font-family=\"Helvetica,sans-Serif\" font-size=\"14.00\" text-anchor=\"start\" x=\"841\" y=\"-124.8\">entropy = 0.711</text>\n<text fill=\"#000000\" font-family=\"Helvetica,sans-Serif\" font-size=\"14.00\" text-anchor=\"start\" x=\"848\" y=\"-109.8\">samples = 36</text>\n<text fill=\"#000000\" font-family=\"Helvetica,sans-Serif\" font-size=\"14.00\" text-anchor=\"start\" x=\"846.5\" y=\"-94.8\">value = [7, 29]</text>\n<text fill=\"#000000\" font-family=\"Helvetica,sans-Serif\" font-size=\"14.00\" text-anchor=\"start\" x=\"863\" y=\"-79.8\">class = 1</text>\n</g>\n<!-- 30&#45;&gt;31 -->\n<g class=\"edge\" id=\"edge19\">\n<title>30-&gt;31</title>\n<path d=\"M999.9413,-190.8796C986.5466,-181.2774 972.1965,-170.9903 958.4745,-161.1534\" fill=\"none\" stroke=\"#000000\"/>\n<polygon fill=\"#000000\" points=\"960.1926,-158.0786 950.026,-155.0969 956.1142,-163.7678 960.1926,-158.0786\" stroke=\"#000000\"/>\n</g>\n<!-- 34 -->\n<g class=\"node\" id=\"node23\">\n<title>34</title>\n<path d=\"M1120,-155C1120,-155 996,-155 996,-155 990,-155 984,-149 984,-143 984,-143 984,-84 984,-84 984,-78 990,-72 996,-72 996,-72 1120,-72 1120,-72 1126,-72 1132,-78 1132,-84 1132,-84 1132,-143 1132,-143 1132,-149 1126,-155 1120,-155\" fill=\"#9ccef2\" stroke=\"#000000\"/>\n<text fill=\"#000000\" font-family=\"Helvetica,sans-Serif\" font-size=\"14.00\" text-anchor=\"start\" x=\"992\" y=\"-139.8\">Dependents_1 ≤ 0.5</text>\n<text fill=\"#000000\" font-family=\"Helvetica,sans-Serif\" font-size=\"14.00\" text-anchor=\"start\" x=\"1007\" y=\"-124.8\">entropy = 0.918</text>\n<text fill=\"#000000\" font-family=\"Helvetica,sans-Serif\" font-size=\"14.00\" text-anchor=\"start\" x=\"1018.5\" y=\"-109.8\">samples = 6</text>\n<text fill=\"#000000\" font-family=\"Helvetica,sans-Serif\" font-size=\"14.00\" text-anchor=\"start\" x=\"1016.5\" y=\"-94.8\">value = [2, 4]</text>\n<text fill=\"#000000\" font-family=\"Helvetica,sans-Serif\" font-size=\"14.00\" text-anchor=\"start\" x=\"1029\" y=\"-79.8\">class = 1</text>\n</g>\n<!-- 30&#45;&gt;34 -->\n<g class=\"edge\" id=\"edge22\">\n<title>30-&gt;34</title>\n<path d=\"M1058,-190.8796C1058,-182.6838 1058,-173.9891 1058,-165.5013\" fill=\"none\" stroke=\"#000000\"/>\n<polygon fill=\"#000000\" points=\"1061.5001,-165.298 1058,-155.2981 1054.5001,-165.2981 1061.5001,-165.298\" stroke=\"#000000\"/>\n</g>\n<!-- 32 -->\n<g class=\"node\" id=\"node21\">\n<title>32</title>\n<path d=\"M871,-36C871,-36 841,-36 841,-36 835,-36 829,-30 829,-24 829,-24 829,-12 829,-12 829,-6 835,0 841,0 841,0 871,0 871,0 877,0 883,-6 883,-12 883,-12 883,-24 883,-24 883,-30 877,-36 871,-36\" fill=\"#c0c0c0\" stroke=\"#000000\"/>\n<text fill=\"#000000\" font-family=\"Helvetica,sans-Serif\" font-size=\"14.00\" text-anchor=\"middle\" x=\"856\" y=\"-14.3\">(...)</text>\n</g>\n<!-- 31&#45;&gt;32 -->\n<g class=\"edge\" id=\"edge20\">\n<title>31-&gt;32</title>\n<path d=\"M876.3146,-71.8901C872.9739,-63.0279 869.525,-53.8788 866.4386,-45.6913\" fill=\"none\" stroke=\"#000000\"/>\n<polygon fill=\"#000000\" points=\"869.6877,-44.3878 862.8853,-36.2651 863.1376,-46.8569 869.6877,-44.3878\" stroke=\"#000000\"/>\n</g>\n<!-- 33 -->\n<g class=\"node\" id=\"node22\">\n<title>33</title>\n<path d=\"M943,-36C943,-36 913,-36 913,-36 907,-36 901,-30 901,-24 901,-24 901,-12 901,-12 901,-6 907,0 913,0 913,0 943,0 943,0 949,0 955,-6 955,-12 955,-12 955,-24 955,-24 955,-30 949,-36 943,-36\" fill=\"#c0c0c0\" stroke=\"#000000\"/>\n<text fill=\"#000000\" font-family=\"Helvetica,sans-Serif\" font-size=\"14.00\" text-anchor=\"middle\" x=\"928\" y=\"-14.3\">(...)</text>\n</g>\n<!-- 31&#45;&gt;33 -->\n<g class=\"edge\" id=\"edge21\">\n<title>31-&gt;33</title>\n<path d=\"M907.6854,-71.8901C911.0261,-63.0279 914.475,-53.8788 917.5614,-45.6913\" fill=\"none\" stroke=\"#000000\"/>\n<polygon fill=\"#000000\" points=\"920.8624,-46.8569 921.1147,-36.2651 914.3123,-44.3878 920.8624,-46.8569\" stroke=\"#000000\"/>\n</g>\n<!-- 35 -->\n<g class=\"node\" id=\"node24\">\n<title>35</title>\n<path d=\"M1062,-36C1062,-36 1032,-36 1032,-36 1026,-36 1020,-30 1020,-24 1020,-24 1020,-12 1020,-12 1020,-6 1026,0 1032,0 1032,0 1062,0 1062,0 1068,0 1074,-6 1074,-12 1074,-12 1074,-24 1074,-24 1074,-30 1068,-36 1062,-36\" fill=\"#c0c0c0\" stroke=\"#000000\"/>\n<text fill=\"#000000\" font-family=\"Helvetica,sans-Serif\" font-size=\"14.00\" text-anchor=\"middle\" x=\"1047\" y=\"-14.3\">(...)</text>\n</g>\n<!-- 34&#45;&gt;35 -->\n<g class=\"edge\" id=\"edge23\">\n<title>34-&gt;35</title>\n<path d=\"M1053.2072,-71.8901C1052.2089,-63.2227 1051.1789,-54.2808 1050.2519,-46.2325\" fill=\"none\" stroke=\"#000000\"/>\n<polygon fill=\"#000000\" points=\"1053.7252,-45.7989 1049.1038,-36.2651 1046.7712,-46.5999 1053.7252,-45.7989\" stroke=\"#000000\"/>\n</g>\n<!-- 36 -->\n<g class=\"node\" id=\"node25\">\n<title>36</title>\n<path d=\"M1134,-36C1134,-36 1104,-36 1104,-36 1098,-36 1092,-30 1092,-24 1092,-24 1092,-12 1092,-12 1092,-6 1098,0 1104,0 1104,0 1134,0 1134,0 1140,0 1146,-6 1146,-12 1146,-12 1146,-24 1146,-24 1146,-30 1140,-36 1134,-36\" fill=\"#c0c0c0\" stroke=\"#000000\"/>\n<text fill=\"#000000\" font-family=\"Helvetica,sans-Serif\" font-size=\"14.00\" text-anchor=\"middle\" x=\"1119\" y=\"-14.3\">(...)</text>\n</g>\n<!-- 34&#45;&gt;36 -->\n<g class=\"edge\" id=\"edge24\">\n<title>34-&gt;36</title>\n<path d=\"M1084.578,-71.8901C1090.4253,-62.7357 1096.4682,-53.2752 1101.8276,-44.8847\" fill=\"none\" stroke=\"#000000\"/>\n<polygon fill=\"#000000\" points=\"1104.8999,-46.5767 1107.3333,-36.2651 1099.0006,-42.8086 1104.8999,-46.5767\" stroke=\"#000000\"/>\n</g>\n<!-- 38 -->\n<g class=\"node\" id=\"node27\">\n<title>38</title>\n<path d=\"M1320,-155C1320,-155 1162,-155 1162,-155 1156,-155 1150,-149 1150,-143 1150,-143 1150,-84 1150,-84 1150,-78 1156,-72 1162,-72 1162,-72 1320,-72 1320,-72 1326,-72 1332,-78 1332,-84 1332,-84 1332,-143 1332,-143 1332,-149 1326,-155 1320,-155\" fill=\"#52a9e8\" stroke=\"#000000\"/>\n<text fill=\"#000000\" font-family=\"Helvetica,sans-Serif\" font-size=\"14.00\" text-anchor=\"start\" x=\"1158\" y=\"-139.8\">Self_Employed_Yes ≤ 0.5</text>\n<text fill=\"#000000\" font-family=\"Helvetica,sans-Serif\" font-size=\"14.00\" text-anchor=\"start\" x=\"1190\" y=\"-124.8\">entropy = 0.503</text>\n<text fill=\"#000000\" font-family=\"Helvetica,sans-Serif\" font-size=\"14.00\" text-anchor=\"start\" x=\"1197\" y=\"-109.8\">samples = 45</text>\n<text fill=\"#000000\" font-family=\"Helvetica,sans-Serif\" font-size=\"14.00\" text-anchor=\"start\" x=\"1195.5\" y=\"-94.8\">value = [5, 40]</text>\n<text fill=\"#000000\" font-family=\"Helvetica,sans-Serif\" font-size=\"14.00\" text-anchor=\"start\" x=\"1212\" y=\"-79.8\">class = 1</text>\n</g>\n<!-- 37&#45;&gt;38 -->\n<g class=\"edge\" id=\"edge26\">\n<title>37-&gt;38</title>\n<path d=\"M1241,-190.8796C1241,-182.6838 1241,-173.9891 1241,-165.5013\" fill=\"none\" stroke=\"#000000\"/>\n<polygon fill=\"#000000\" points=\"1244.5001,-165.298 1241,-155.2981 1237.5001,-165.2981 1244.5001,-165.298\" stroke=\"#000000\"/>\n</g>\n<!-- 41 -->\n<g class=\"node\" id=\"node30\">\n<title>41</title>\n<path d=\"M1520,-155C1520,-155 1362,-155 1362,-155 1356,-155 1350,-149 1350,-143 1350,-143 1350,-84 1350,-84 1350,-78 1356,-72 1362,-72 1362,-72 1520,-72 1520,-72 1526,-72 1532,-78 1532,-84 1532,-84 1532,-143 1532,-143 1532,-149 1526,-155 1520,-155\" fill=\"#5dafea\" stroke=\"#000000\"/>\n<text fill=\"#000000\" font-family=\"Helvetica,sans-Serif\" font-size=\"14.00\" text-anchor=\"start\" x=\"1358\" y=\"-139.8\">Self_Employed_Yes ≤ 0.5</text>\n<text fill=\"#000000\" font-family=\"Helvetica,sans-Serif\" font-size=\"14.00\" text-anchor=\"start\" x=\"1390\" y=\"-124.8\">entropy = 0.619</text>\n<text fill=\"#000000\" font-family=\"Helvetica,sans-Serif\" font-size=\"14.00\" text-anchor=\"start\" x=\"1397\" y=\"-109.8\">samples = 52</text>\n<text fill=\"#000000\" font-family=\"Helvetica,sans-Serif\" font-size=\"14.00\" text-anchor=\"start\" x=\"1395.5\" y=\"-94.8\">value = [8, 44]</text>\n<text fill=\"#000000\" font-family=\"Helvetica,sans-Serif\" font-size=\"14.00\" text-anchor=\"start\" x=\"1412\" y=\"-79.8\">class = 1</text>\n</g>\n<!-- 37&#45;&gt;41 -->\n<g class=\"edge\" id=\"edge29\">\n<title>37-&gt;41</title>\n<path d=\"M1310.9503,-190.8796C1327.5452,-181.0056 1345.3572,-170.4075 1362.312,-160.3193\" fill=\"none\" stroke=\"#000000\"/>\n<polygon fill=\"#000000\" points=\"1364.285,-163.2181 1371.0892,-155.0969 1360.7057,-157.2025 1364.285,-163.2181\" stroke=\"#000000\"/>\n</g>\n<!-- 39 -->\n<g class=\"node\" id=\"node28\">\n<title>39</title>\n<path d=\"M1239,-36C1239,-36 1209,-36 1209,-36 1203,-36 1197,-30 1197,-24 1197,-24 1197,-12 1197,-12 1197,-6 1203,0 1209,0 1209,0 1239,0 1239,0 1245,0 1251,-6 1251,-12 1251,-12 1251,-24 1251,-24 1251,-30 1245,-36 1239,-36\" fill=\"#c0c0c0\" stroke=\"#000000\"/>\n<text fill=\"#000000\" font-family=\"Helvetica,sans-Serif\" font-size=\"14.00\" text-anchor=\"middle\" x=\"1224\" y=\"-14.3\">(...)</text>\n</g>\n<!-- 38&#45;&gt;39 -->\n<g class=\"edge\" id=\"edge27\">\n<title>38-&gt;39</title>\n<path d=\"M1233.593,-71.8901C1232.0501,-63.2227 1230.4584,-54.2808 1229.0257,-46.2325\" fill=\"none\" stroke=\"#000000\"/>\n<polygon fill=\"#000000\" points=\"1232.4498,-45.4969 1227.2514,-36.2651 1225.5582,-46.7238 1232.4498,-45.4969\" stroke=\"#000000\"/>\n</g>\n<!-- 40 -->\n<g class=\"node\" id=\"node29\">\n<title>40</title>\n<path d=\"M1311,-36C1311,-36 1281,-36 1281,-36 1275,-36 1269,-30 1269,-24 1269,-24 1269,-12 1269,-12 1269,-6 1275,0 1281,0 1281,0 1311,0 1311,0 1317,0 1323,-6 1323,-12 1323,-12 1323,-24 1323,-24 1323,-30 1317,-36 1311,-36\" fill=\"#c0c0c0\" stroke=\"#000000\"/>\n<text fill=\"#000000\" font-family=\"Helvetica,sans-Serif\" font-size=\"14.00\" text-anchor=\"middle\" x=\"1296\" y=\"-14.3\">(...)</text>\n</g>\n<!-- 38&#45;&gt;40 -->\n<g class=\"edge\" id=\"edge28\">\n<title>38-&gt;40</title>\n<path d=\"M1264.9638,-71.8901C1270.1799,-62.8331 1275.5685,-53.4765 1280.3622,-45.1528\" fill=\"none\" stroke=\"#000000\"/>\n<polygon fill=\"#000000\" points=\"1283.5231,-46.6775 1285.4808,-36.2651 1277.4571,-43.184 1283.5231,-46.6775\" stroke=\"#000000\"/>\n</g>\n<!-- 42 -->\n<g class=\"node\" id=\"node31\">\n<title>42</title>\n<path d=\"M1400,-36C1400,-36 1370,-36 1370,-36 1364,-36 1358,-30 1358,-24 1358,-24 1358,-12 1358,-12 1358,-6 1364,0 1370,0 1370,0 1400,0 1400,0 1406,0 1412,-6 1412,-12 1412,-12 1412,-24 1412,-24 1412,-30 1406,-36 1400,-36\" fill=\"#c0c0c0\" stroke=\"#000000\"/>\n<text fill=\"#000000\" font-family=\"Helvetica,sans-Serif\" font-size=\"14.00\" text-anchor=\"middle\" x=\"1385\" y=\"-14.3\">(...)</text>\n</g>\n<!-- 41&#45;&gt;42 -->\n<g class=\"edge\" id=\"edge30\">\n<title>41-&gt;42</title>\n<path d=\"M1416.6005,-71.8901C1411.2896,-62.8331 1405.803,-53.4765 1400.9221,-45.1528\" fill=\"none\" stroke=\"#000000\"/>\n<polygon fill=\"#000000\" points=\"1403.788,-43.121 1395.7104,-36.2651 1397.7496,-46.6619 1403.788,-43.121\" stroke=\"#000000\"/>\n</g>\n<!-- 43 -->\n<g class=\"node\" id=\"node32\">\n<title>43</title>\n<path d=\"M1472,-36C1472,-36 1442,-36 1442,-36 1436,-36 1430,-30 1430,-24 1430,-24 1430,-12 1430,-12 1430,-6 1436,0 1442,0 1442,0 1472,0 1472,0 1478,0 1484,-6 1484,-12 1484,-12 1484,-24 1484,-24 1484,-30 1478,-36 1472,-36\" fill=\"#c0c0c0\" stroke=\"#000000\"/>\n<text fill=\"#000000\" font-family=\"Helvetica,sans-Serif\" font-size=\"14.00\" text-anchor=\"middle\" x=\"1457\" y=\"-14.3\">(...)</text>\n</g>\n<!-- 41&#45;&gt;43 -->\n<g class=\"edge\" id=\"edge31\">\n<title>41-&gt;43</title>\n<path d=\"M1447.9713,-71.8901C1449.4234,-63.2227 1450.9215,-54.2808 1452.27,-46.2325\" fill=\"none\" stroke=\"#000000\"/>\n<polygon fill=\"#000000\" points=\"1455.7393,-46.706 1453.9399,-36.2651 1448.8355,-45.5493 1455.7393,-46.706\" stroke=\"#000000\"/>\n</g>\n<!-- 45 -->\n<g class=\"node\" id=\"node34\">\n<title>45</title>\n<path d=\"M1853,-393C1853,-393 1653,-393 1653,-393 1647,-393 1641,-387 1641,-381 1641,-381 1641,-322 1641,-322 1641,-316 1647,-310 1653,-310 1653,-310 1853,-310 1853,-310 1859,-310 1865,-316 1865,-322 1865,-322 1865,-381 1865,-381 1865,-387 1859,-393 1853,-393\" fill=\"#e9965a\" stroke=\"#000000\"/>\n<text fill=\"#000000\" font-family=\"Helvetica,sans-Serif\" font-size=\"14.00\" text-anchor=\"start\" x=\"1649\" y=\"-377.8\">Property_Area_Semiurban ≤ 0.5</text>\n<text fill=\"#000000\" font-family=\"Helvetica,sans-Serif\" font-size=\"14.00\" text-anchor=\"start\" x=\"1702\" y=\"-362.8\">entropy = 0.592</text>\n<text fill=\"#000000\" font-family=\"Helvetica,sans-Serif\" font-size=\"14.00\" text-anchor=\"start\" x=\"1709\" y=\"-347.8\">samples = 63</text>\n<text fill=\"#000000\" font-family=\"Helvetica,sans-Serif\" font-size=\"14.00\" text-anchor=\"start\" x=\"1707.5\" y=\"-332.8\">value = [54, 9]</text>\n<text fill=\"#000000\" font-family=\"Helvetica,sans-Serif\" font-size=\"14.00\" text-anchor=\"start\" x=\"1724\" y=\"-317.8\">class = 0</text>\n</g>\n<!-- 44&#45;&gt;45 -->\n<g class=\"edge\" id=\"edge33\">\n<title>44-&gt;45</title>\n<path d=\"M1753,-428.8796C1753,-420.6838 1753,-411.9891 1753,-403.5013\" fill=\"none\" stroke=\"#000000\"/>\n<polygon fill=\"#000000\" points=\"1756.5001,-403.298 1753,-393.2981 1749.5001,-403.2981 1756.5001,-403.298\" stroke=\"#000000\"/>\n</g>\n<!-- 66 -->\n<g class=\"node\" id=\"node49\">\n<title>66</title>\n<path d=\"M1978.5,-385.5C1978.5,-385.5 1895.5,-385.5 1895.5,-385.5 1889.5,-385.5 1883.5,-379.5 1883.5,-373.5 1883.5,-373.5 1883.5,-329.5 1883.5,-329.5 1883.5,-323.5 1889.5,-317.5 1895.5,-317.5 1895.5,-317.5 1978.5,-317.5 1978.5,-317.5 1984.5,-317.5 1990.5,-323.5 1990.5,-329.5 1990.5,-329.5 1990.5,-373.5 1990.5,-373.5 1990.5,-379.5 1984.5,-385.5 1978.5,-385.5\" fill=\"#e58139\" stroke=\"#000000\"/>\n<text fill=\"#000000\" font-family=\"Helvetica,sans-Serif\" font-size=\"14.00\" text-anchor=\"start\" x=\"1894.5\" y=\"-370.3\">entropy = 0.0</text>\n<text fill=\"#000000\" font-family=\"Helvetica,sans-Serif\" font-size=\"14.00\" text-anchor=\"start\" x=\"1893\" y=\"-355.3\">samples = 10</text>\n<text fill=\"#000000\" font-family=\"Helvetica,sans-Serif\" font-size=\"14.00\" text-anchor=\"start\" x=\"1891.5\" y=\"-340.3\">value = [10, 0]</text>\n<text fill=\"#000000\" font-family=\"Helvetica,sans-Serif\" font-size=\"14.00\" text-anchor=\"start\" x=\"1908\" y=\"-325.3\">class = 0</text>\n</g>\n<!-- 44&#45;&gt;66 -->\n<g class=\"edge\" id=\"edge48\">\n<title>44-&gt;66</title>\n<path d=\"M1818.4072,-428.8231C1836.4498,-417.2677 1856.0086,-404.6868 1874,-393 1874.9336,-392.3936 1875.8746,-391.7816 1876.8216,-391.1653\" fill=\"none\" stroke=\"#000000\"/>\n<polygon fill=\"#000000\" points=\"1879.0018,-393.9219 1885.4635,-385.5258 1875.1762,-388.0597 1879.0018,-393.9219\" stroke=\"#000000\"/>\n</g>\n<!-- 46 -->\n<g class=\"node\" id=\"node35\">\n<title>46</title>\n<path d=\"M1815,-274C1815,-274 1691,-274 1691,-274 1685,-274 1679,-268 1679,-262 1679,-262 1679,-203 1679,-203 1679,-197 1685,-191 1691,-191 1691,-191 1815,-191 1815,-191 1821,-191 1827,-197 1827,-203 1827,-203 1827,-262 1827,-262 1827,-268 1821,-274 1815,-274\" fill=\"#e89253\" stroke=\"#000000\"/>\n<text fill=\"#000000\" font-family=\"Helvetica,sans-Serif\" font-size=\"14.00\" text-anchor=\"start\" x=\"1687\" y=\"-258.8\">Dependents_1 ≤ 0.5</text>\n<text fill=\"#000000\" font-family=\"Helvetica,sans-Serif\" font-size=\"14.00\" text-anchor=\"start\" x=\"1702\" y=\"-243.8\">entropy = 0.519</text>\n<text fill=\"#000000\" font-family=\"Helvetica,sans-Serif\" font-size=\"14.00\" text-anchor=\"start\" x=\"1709\" y=\"-228.8\">samples = 43</text>\n<text fill=\"#000000\" font-family=\"Helvetica,sans-Serif\" font-size=\"14.00\" text-anchor=\"start\" x=\"1707.5\" y=\"-213.8\">value = [38, 5]</text>\n<text fill=\"#000000\" font-family=\"Helvetica,sans-Serif\" font-size=\"14.00\" text-anchor=\"start\" x=\"1724\" y=\"-198.8\">class = 0</text>\n</g>\n<!-- 45&#45;&gt;46 -->\n<g class=\"edge\" id=\"edge34\">\n<title>45-&gt;46</title>\n<path d=\"M1753,-309.8796C1753,-301.6838 1753,-292.9891 1753,-284.5013\" fill=\"none\" stroke=\"#000000\"/>\n<polygon fill=\"#000000\" points=\"1756.5001,-284.298 1753,-274.2981 1749.5001,-284.2981 1756.5001,-284.298\" stroke=\"#000000\"/>\n</g>\n<!-- 59 -->\n<g class=\"node\" id=\"node42\">\n<title>59</title>\n<path d=\"M2103,-274C2103,-274 1979,-274 1979,-274 1973,-274 1967,-268 1967,-262 1967,-262 1967,-203 1967,-203 1967,-197 1973,-191 1979,-191 1979,-191 2103,-191 2103,-191 2109,-191 2115,-197 2115,-203 2115,-203 2115,-262 2115,-262 2115,-268 2109,-274 2103,-274\" fill=\"#eca06a\" stroke=\"#000000\"/>\n<text fill=\"#000000\" font-family=\"Helvetica,sans-Serif\" font-size=\"14.00\" text-anchor=\"start\" x=\"1975\" y=\"-258.8\">Dependents_1 ≤ 0.5</text>\n<text fill=\"#000000\" font-family=\"Helvetica,sans-Serif\" font-size=\"14.00\" text-anchor=\"start\" x=\"1990\" y=\"-243.8\">entropy = 0.722</text>\n<text fill=\"#000000\" font-family=\"Helvetica,sans-Serif\" font-size=\"14.00\" text-anchor=\"start\" x=\"1997\" y=\"-228.8\">samples = 20</text>\n<text fill=\"#000000\" font-family=\"Helvetica,sans-Serif\" font-size=\"14.00\" text-anchor=\"start\" x=\"1995.5\" y=\"-213.8\">value = [16, 4]</text>\n<text fill=\"#000000\" font-family=\"Helvetica,sans-Serif\" font-size=\"14.00\" text-anchor=\"start\" x=\"2012\" y=\"-198.8\">class = 0</text>\n</g>\n<!-- 45&#45;&gt;59 -->\n<g class=\"edge\" id=\"edge41\">\n<title>45-&gt;59</title>\n<path d=\"M1853.7284,-309.8796C1887.5369,-295.9101 1924.8536,-280.4911 1957.2196,-267.1176\" fill=\"none\" stroke=\"#000000\"/>\n<polygon fill=\"#000000\" points=\"1958.746,-270.274 1966.6515,-263.2204 1956.0728,-263.8045 1958.746,-270.274\" stroke=\"#000000\"/>\n</g>\n<!-- 47 -->\n<g class=\"node\" id=\"node36\">\n<title>47</title>\n<path d=\"M1732,-155C1732,-155 1562,-155 1562,-155 1556,-155 1550,-149 1550,-143 1550,-143 1550,-84 1550,-84 1550,-78 1556,-72 1562,-72 1562,-72 1732,-72 1732,-72 1738,-72 1744,-78 1744,-84 1744,-84 1744,-143 1744,-143 1744,-149 1738,-155 1732,-155\" fill=\"#ea995f\" stroke=\"#000000\"/>\n<text fill=\"#000000\" font-family=\"Helvetica,sans-Serif\" font-size=\"14.00\" text-anchor=\"start\" x=\"1558\" y=\"-139.8\">Property_Area_Urban ≤ 0.5</text>\n<text fill=\"#000000\" font-family=\"Helvetica,sans-Serif\" font-size=\"14.00\" text-anchor=\"start\" x=\"1596\" y=\"-124.8\">entropy = 0.634</text>\n<text fill=\"#000000\" font-family=\"Helvetica,sans-Serif\" font-size=\"14.00\" text-anchor=\"start\" x=\"1603\" y=\"-109.8\">samples = 25</text>\n<text fill=\"#000000\" font-family=\"Helvetica,sans-Serif\" font-size=\"14.00\" text-anchor=\"start\" x=\"1601.5\" y=\"-94.8\">value = [21, 4]</text>\n<text fill=\"#000000\" font-family=\"Helvetica,sans-Serif\" font-size=\"14.00\" text-anchor=\"start\" x=\"1618\" y=\"-79.8\">class = 0</text>\n</g>\n<!-- 46&#45;&gt;47 -->\n<g class=\"edge\" id=\"edge35\">\n<title>46-&gt;47</title>\n<path d=\"M1715.9263,-190.8796C1707.9039,-181.8733 1699.3448,-172.2644 1691.0833,-162.9897\" fill=\"none\" stroke=\"#000000\"/>\n<polygon fill=\"#000000\" points=\"1693.4969,-160.4373 1684.2319,-155.2981 1688.2698,-165.0933 1693.4969,-160.4373\" stroke=\"#000000\"/>\n</g>\n<!-- 54 -->\n<g class=\"node\" id=\"node39\">\n<title>54</title>\n<path d=\"M1944,-155C1944,-155 1774,-155 1774,-155 1768,-155 1762,-149 1762,-143 1762,-143 1762,-84 1762,-84 1762,-78 1768,-72 1774,-72 1774,-72 1944,-72 1944,-72 1950,-72 1956,-78 1956,-84 1956,-84 1956,-143 1956,-143 1956,-149 1950,-155 1944,-155\" fill=\"#e78845\" stroke=\"#000000\"/>\n<text fill=\"#000000\" font-family=\"Helvetica,sans-Serif\" font-size=\"14.00\" text-anchor=\"start\" x=\"1770\" y=\"-139.8\">Property_Area_Urban ≤ 0.5</text>\n<text fill=\"#000000\" font-family=\"Helvetica,sans-Serif\" font-size=\"14.00\" text-anchor=\"start\" x=\"1812\" y=\"-124.8\">entropy = 0.31</text>\n<text fill=\"#000000\" font-family=\"Helvetica,sans-Serif\" font-size=\"14.00\" text-anchor=\"start\" x=\"1815\" y=\"-109.8\">samples = 18</text>\n<text fill=\"#000000\" font-family=\"Helvetica,sans-Serif\" font-size=\"14.00\" text-anchor=\"start\" x=\"1813.5\" y=\"-94.8\">value = [17, 1]</text>\n<text fill=\"#000000\" font-family=\"Helvetica,sans-Serif\" font-size=\"14.00\" text-anchor=\"start\" x=\"1830\" y=\"-79.8\">class = 0</text>\n</g>\n<!-- 46&#45;&gt;54 -->\n<g class=\"edge\" id=\"edge38\">\n<title>46-&gt;54</title>\n<path d=\"M1790.0737,-190.8796C1798.0961,-181.8733 1806.6552,-172.2644 1814.9167,-162.9897\" fill=\"none\" stroke=\"#000000\"/>\n<polygon fill=\"#000000\" points=\"1817.7302,-165.0933 1821.7681,-155.2981 1812.5031,-160.4373 1817.7302,-165.0933\" stroke=\"#000000\"/>\n</g>\n<!-- 48 -->\n<g class=\"node\" id=\"node37\">\n<title>48</title>\n<path d=\"M1624,-36C1624,-36 1594,-36 1594,-36 1588,-36 1582,-30 1582,-24 1582,-24 1582,-12 1582,-12 1582,-6 1588,0 1594,0 1594,0 1624,0 1624,0 1630,0 1636,-6 1636,-12 1636,-12 1636,-24 1636,-24 1636,-30 1630,-36 1624,-36\" fill=\"#c0c0c0\" stroke=\"#000000\"/>\n<text fill=\"#000000\" font-family=\"Helvetica,sans-Serif\" font-size=\"14.00\" text-anchor=\"middle\" x=\"1609\" y=\"-14.3\">(...)</text>\n</g>\n<!-- 47&#45;&gt;48 -->\n<g class=\"edge\" id=\"edge36\">\n<title>47-&gt;48</title>\n<path d=\"M1630.4432,-71.8901C1626.9169,-63.0279 1623.2764,-53.8788 1620.0185,-45.6913\" fill=\"none\" stroke=\"#000000\"/>\n<polygon fill=\"#000000\" points=\"1623.217,-44.2626 1616.2678,-36.2651 1616.713,-46.8506 1623.217,-44.2626\" stroke=\"#000000\"/>\n</g>\n<!-- 51 -->\n<g class=\"node\" id=\"node38\">\n<title>51</title>\n<path d=\"M1696,-36C1696,-36 1666,-36 1666,-36 1660,-36 1654,-30 1654,-24 1654,-24 1654,-12 1654,-12 1654,-6 1660,0 1666,0 1666,0 1696,0 1696,0 1702,0 1708,-6 1708,-12 1708,-12 1708,-24 1708,-24 1708,-30 1702,-36 1696,-36\" fill=\"#c0c0c0\" stroke=\"#000000\"/>\n<text fill=\"#000000\" font-family=\"Helvetica,sans-Serif\" font-size=\"14.00\" text-anchor=\"middle\" x=\"1681\" y=\"-14.3\">(...)</text>\n</g>\n<!-- 47&#45;&gt;51 -->\n<g class=\"edge\" id=\"edge37\">\n<title>47-&gt;51</title>\n<path d=\"M1661.814,-71.8901C1664.9691,-63.0279 1668.2264,-53.8788 1671.1413,-45.6913\" fill=\"none\" stroke=\"#000000\"/>\n<polygon fill=\"#000000\" points=\"1674.4405,-46.8598 1674.4972,-36.2651 1667.8459,-44.512 1674.4405,-46.8598\" stroke=\"#000000\"/>\n</g>\n<!-- 55 -->\n<g class=\"node\" id=\"node40\">\n<title>55</title>\n<path d=\"M1821,-36C1821,-36 1791,-36 1791,-36 1785,-36 1779,-30 1779,-24 1779,-24 1779,-12 1779,-12 1779,-6 1785,0 1791,0 1791,0 1821,0 1821,0 1827,0 1833,-6 1833,-12 1833,-12 1833,-24 1833,-24 1833,-30 1827,-36 1821,-36\" fill=\"#c0c0c0\" stroke=\"#000000\"/>\n<text fill=\"#000000\" font-family=\"Helvetica,sans-Serif\" font-size=\"14.00\" text-anchor=\"middle\" x=\"1806\" y=\"-14.3\">(...)</text>\n</g>\n<!-- 54&#45;&gt;55 -->\n<g class=\"edge\" id=\"edge39\">\n<title>54-&gt;55</title>\n<path d=\"M1835.9076,-71.8901C1830.8812,-62.8331 1825.6885,-53.4765 1821.0691,-45.1528\" fill=\"none\" stroke=\"#000000\"/>\n<polygon fill=\"#000000\" points=\"1824.0496,-43.3104 1816.1367,-36.2651 1817.9289,-46.7073 1824.0496,-43.3104\" stroke=\"#000000\"/>\n</g>\n<!-- 56 -->\n<g class=\"node\" id=\"node41\">\n<title>56</title>\n<path d=\"M1893,-36C1893,-36 1863,-36 1863,-36 1857,-36 1851,-30 1851,-24 1851,-24 1851,-12 1851,-12 1851,-6 1857,0 1863,0 1863,0 1893,0 1893,0 1899,0 1905,-6 1905,-12 1905,-12 1905,-24 1905,-24 1905,-30 1899,-36 1893,-36\" fill=\"#c0c0c0\" stroke=\"#000000\"/>\n<text fill=\"#000000\" font-family=\"Helvetica,sans-Serif\" font-size=\"14.00\" text-anchor=\"middle\" x=\"1878\" y=\"-14.3\">(...)</text>\n</g>\n<!-- 54&#45;&gt;56 -->\n<g class=\"edge\" id=\"edge40\">\n<title>54-&gt;56</title>\n<path d=\"M1867.2784,-71.8901C1869.0028,-63.2227 1870.7818,-54.2808 1872.3831,-46.2325\" fill=\"none\" stroke=\"#000000\"/>\n<polygon fill=\"#000000\" points=\"1875.8475,-46.7559 1874.3661,-36.2651 1868.982,-45.3899 1875.8475,-46.7559\" stroke=\"#000000\"/>\n</g>\n<!-- 60 -->\n<g class=\"node\" id=\"node43\">\n<title>60</title>\n<path d=\"M2095.5,-155C2095.5,-155 1986.5,-155 1986.5,-155 1980.5,-155 1974.5,-149 1974.5,-143 1974.5,-143 1974.5,-84 1974.5,-84 1974.5,-78 1980.5,-72 1986.5,-72 1986.5,-72 2095.5,-72 2095.5,-72 2101.5,-72 2107.5,-78 2107.5,-84 2107.5,-84 2107.5,-143 2107.5,-143 2107.5,-149 2101.5,-155 2095.5,-155\" fill=\"#e88f4f\" stroke=\"#000000\"/>\n<text fill=\"#000000\" font-family=\"Helvetica,sans-Serif\" font-size=\"14.00\" text-anchor=\"start\" x=\"1982.5\" y=\"-139.8\">Married_Yes ≤ 0.5</text>\n<text fill=\"#000000\" font-family=\"Helvetica,sans-Serif\" font-size=\"14.00\" text-anchor=\"start\" x=\"1990\" y=\"-124.8\">entropy = 0.469</text>\n<text fill=\"#000000\" font-family=\"Helvetica,sans-Serif\" font-size=\"14.00\" text-anchor=\"start\" x=\"1997\" y=\"-109.8\">samples = 10</text>\n<text fill=\"#000000\" font-family=\"Helvetica,sans-Serif\" font-size=\"14.00\" text-anchor=\"start\" x=\"1999.5\" y=\"-94.8\">value = [9, 1]</text>\n<text fill=\"#000000\" font-family=\"Helvetica,sans-Serif\" font-size=\"14.00\" text-anchor=\"start\" x=\"2012\" y=\"-79.8\">class = 0</text>\n</g>\n<!-- 59&#45;&gt;60 -->\n<g class=\"edge\" id=\"edge42\">\n<title>59-&gt;60</title>\n<path d=\"M2041,-190.8796C2041,-182.6838 2041,-173.9891 2041,-165.5013\" fill=\"none\" stroke=\"#000000\"/>\n<polygon fill=\"#000000\" points=\"2044.5001,-165.298 2041,-155.2981 2037.5001,-165.2981 2044.5001,-165.298\" stroke=\"#000000\"/>\n</g>\n<!-- 63 -->\n<g class=\"node\" id=\"node46\">\n<title>63</title>\n<path d=\"M2246.5,-155C2246.5,-155 2137.5,-155 2137.5,-155 2131.5,-155 2125.5,-149 2125.5,-143 2125.5,-143 2125.5,-84 2125.5,-84 2125.5,-78 2131.5,-72 2137.5,-72 2137.5,-72 2246.5,-72 2246.5,-72 2252.5,-72 2258.5,-78 2258.5,-84 2258.5,-84 2258.5,-143 2258.5,-143 2258.5,-149 2252.5,-155 2246.5,-155\" fill=\"#f0b78e\" stroke=\"#000000\"/>\n<text fill=\"#000000\" font-family=\"Helvetica,sans-Serif\" font-size=\"14.00\" text-anchor=\"start\" x=\"2133.5\" y=\"-139.8\">Married_Yes ≤ 0.5</text>\n<text fill=\"#000000\" font-family=\"Helvetica,sans-Serif\" font-size=\"14.00\" text-anchor=\"start\" x=\"2141\" y=\"-124.8\">entropy = 0.881</text>\n<text fill=\"#000000\" font-family=\"Helvetica,sans-Serif\" font-size=\"14.00\" text-anchor=\"start\" x=\"2148\" y=\"-109.8\">samples = 10</text>\n<text fill=\"#000000\" font-family=\"Helvetica,sans-Serif\" font-size=\"14.00\" text-anchor=\"start\" x=\"2150.5\" y=\"-94.8\">value = [7, 3]</text>\n<text fill=\"#000000\" font-family=\"Helvetica,sans-Serif\" font-size=\"14.00\" text-anchor=\"start\" x=\"2163\" y=\"-79.8\">class = 0</text>\n</g>\n<!-- 59&#45;&gt;63 -->\n<g class=\"edge\" id=\"edge45\">\n<title>59-&gt;63</title>\n<path d=\"M2093.8125,-190.8796C2105.8818,-181.368 2118.8039,-171.1843 2131.1788,-161.432\" fill=\"none\" stroke=\"#000000\"/>\n<polygon fill=\"#000000\" points=\"2133.5296,-164.0356 2139.2173,-155.0969 2129.1968,-158.5377 2133.5296,-164.0356\" stroke=\"#000000\"/>\n</g>\n<!-- 61 -->\n<g class=\"node\" id=\"node44\">\n<title>61</title>\n<path d=\"M2005,-36C2005,-36 1975,-36 1975,-36 1969,-36 1963,-30 1963,-24 1963,-24 1963,-12 1963,-12 1963,-6 1969,0 1975,0 1975,0 2005,0 2005,0 2011,0 2017,-6 2017,-12 2017,-12 2017,-24 2017,-24 2017,-30 2011,-36 2005,-36\" fill=\"#c0c0c0\" stroke=\"#000000\"/>\n<text fill=\"#000000\" font-family=\"Helvetica,sans-Serif\" font-size=\"14.00\" text-anchor=\"middle\" x=\"1990\" y=\"-14.3\">(...)</text>\n</g>\n<!-- 60&#45;&gt;61 -->\n<g class=\"edge\" id=\"edge43\">\n<title>60-&gt;61</title>\n<path d=\"M2018.779,-71.8901C2013.9423,-62.8331 2008.9456,-53.4765 2004.5005,-45.1528\" fill=\"none\" stroke=\"#000000\"/>\n<polygon fill=\"#000000\" points=\"2007.5522,-43.4373 1999.7541,-36.2651 2001.3775,-46.7348 2007.5522,-43.4373\" stroke=\"#000000\"/>\n</g>\n<!-- 62 -->\n<g class=\"node\" id=\"node45\">\n<title>62</title>\n<path d=\"M2077,-36C2077,-36 2047,-36 2047,-36 2041,-36 2035,-30 2035,-24 2035,-24 2035,-12 2035,-12 2035,-6 2041,0 2047,0 2047,0 2077,0 2077,0 2083,0 2089,-6 2089,-12 2089,-12 2089,-24 2089,-24 2089,-30 2083,-36 2077,-36\" fill=\"#c0c0c0\" stroke=\"#000000\"/>\n<text fill=\"#000000\" font-family=\"Helvetica,sans-Serif\" font-size=\"14.00\" text-anchor=\"middle\" x=\"2062\" y=\"-14.3\">(...)</text>\n</g>\n<!-- 60&#45;&gt;62 -->\n<g class=\"edge\" id=\"edge44\">\n<title>60-&gt;62</title>\n<path d=\"M2050.1498,-71.8901C2052.0557,-63.2227 2054.022,-54.2808 2055.7918,-46.2325\" fill=\"none\" stroke=\"#000000\"/>\n<polygon fill=\"#000000\" points=\"2059.2542,-46.7835 2057.9836,-36.2651 2052.4175,-45.2801 2059.2542,-46.7835\" stroke=\"#000000\"/>\n</g>\n<!-- 64 -->\n<g class=\"node\" id=\"node47\">\n<title>64</title>\n<path d=\"M2171,-36C2171,-36 2141,-36 2141,-36 2135,-36 2129,-30 2129,-24 2129,-24 2129,-12 2129,-12 2129,-6 2135,0 2141,0 2141,0 2171,0 2171,0 2177,0 2183,-6 2183,-12 2183,-12 2183,-24 2183,-24 2183,-30 2177,-36 2171,-36\" fill=\"#c0c0c0\" stroke=\"#000000\"/>\n<text fill=\"#000000\" font-family=\"Helvetica,sans-Serif\" font-size=\"14.00\" text-anchor=\"middle\" x=\"2156\" y=\"-14.3\">(...)</text>\n</g>\n<!-- 63&#45;&gt;64 -->\n<g class=\"edge\" id=\"edge46\">\n<title>63-&gt;64</title>\n<path d=\"M2176.3146,-71.8901C2172.9739,-63.0279 2169.525,-53.8788 2166.4386,-45.6913\" fill=\"none\" stroke=\"#000000\"/>\n<polygon fill=\"#000000\" points=\"2169.6877,-44.3878 2162.8853,-36.2651 2163.1376,-46.8569 2169.6877,-44.3878\" stroke=\"#000000\"/>\n</g>\n<!-- 65 -->\n<g class=\"node\" id=\"node48\">\n<title>65</title>\n<path d=\"M2243,-36C2243,-36 2213,-36 2213,-36 2207,-36 2201,-30 2201,-24 2201,-24 2201,-12 2201,-12 2201,-6 2207,0 2213,0 2213,0 2243,0 2243,0 2249,0 2255,-6 2255,-12 2255,-12 2255,-24 2255,-24 2255,-30 2249,-36 2243,-36\" fill=\"#c0c0c0\" stroke=\"#000000\"/>\n<text fill=\"#000000\" font-family=\"Helvetica,sans-Serif\" font-size=\"14.00\" text-anchor=\"middle\" x=\"2228\" y=\"-14.3\">(...)</text>\n</g>\n<!-- 63&#45;&gt;65 -->\n<g class=\"edge\" id=\"edge47\">\n<title>63-&gt;65</title>\n<path d=\"M2207.6854,-71.8901C2211.0261,-63.0279 2214.475,-53.8788 2217.5614,-45.6913\" fill=\"none\" stroke=\"#000000\"/>\n<polygon fill=\"#000000\" points=\"2220.8624,-46.8569 2221.1147,-36.2651 2214.3123,-44.3878 2220.8624,-46.8569\" stroke=\"#000000\"/>\n</g>\n</g>\n</svg>"
          },
          "metadata": {
            "tags": []
          },
          "execution_count": 18
        }
      ]
    },
    {
      "cell_type": "code",
      "metadata": {
        "colab": {
          "base_uri": "https://localhost:8080/",
          "height": 297
        },
        "id": "uM30uQo0jPRY",
        "outputId": "761b92bf-ef34-4f44-f11a-1f9ec6ea905c"
      },
      "source": [
        "testchi.describe()\r\n"
      ],
      "execution_count": 19,
      "outputs": [
        {
          "output_type": "execute_result",
          "data": {
            "text/html": [
              "<div>\n",
              "<style scoped>\n",
              "    .dataframe tbody tr th:only-of-type {\n",
              "        vertical-align: middle;\n",
              "    }\n",
              "\n",
              "    .dataframe tbody tr th {\n",
              "        vertical-align: top;\n",
              "    }\n",
              "\n",
              "    .dataframe thead th {\n",
              "        text-align: right;\n",
              "    }\n",
              "</style>\n",
              "<table border=\"1\" class=\"dataframe\">\n",
              "  <thead>\n",
              "    <tr style=\"text-align: right;\">\n",
              "      <th></th>\n",
              "      <th>Dependents_1</th>\n",
              "      <th>Married_Yes</th>\n",
              "      <th>Self_Employed_Yes</th>\n",
              "      <th>Property_Area_Rural</th>\n",
              "      <th>Property_Area_Semiurban</th>\n",
              "      <th>Property_Area_Urban</th>\n",
              "      <th>Credit_History_0</th>\n",
              "      <th>Credit_History_1</th>\n",
              "    </tr>\n",
              "  </thead>\n",
              "  <tbody>\n",
              "    <tr>\n",
              "      <th>count</th>\n",
              "      <td>614.000000</td>\n",
              "      <td>614.000000</td>\n",
              "      <td>614.000000</td>\n",
              "      <td>614.000000</td>\n",
              "      <td>614.000000</td>\n",
              "      <td>614.000000</td>\n",
              "      <td>614.000000</td>\n",
              "      <td>614.000000</td>\n",
              "    </tr>\n",
              "    <tr>\n",
              "      <th>mean</th>\n",
              "      <td>0.413681</td>\n",
              "      <td>0.651466</td>\n",
              "      <td>0.133550</td>\n",
              "      <td>0.291531</td>\n",
              "      <td>0.379479</td>\n",
              "      <td>0.328990</td>\n",
              "      <td>0.161238</td>\n",
              "      <td>0.838762</td>\n",
              "    </tr>\n",
              "    <tr>\n",
              "      <th>std</th>\n",
              "      <td>0.492894</td>\n",
              "      <td>0.476895</td>\n",
              "      <td>0.340446</td>\n",
              "      <td>0.454838</td>\n",
              "      <td>0.485653</td>\n",
              "      <td>0.470229</td>\n",
              "      <td>0.368050</td>\n",
              "      <td>0.368050</td>\n",
              "    </tr>\n",
              "    <tr>\n",
              "      <th>min</th>\n",
              "      <td>0.000000</td>\n",
              "      <td>0.000000</td>\n",
              "      <td>0.000000</td>\n",
              "      <td>0.000000</td>\n",
              "      <td>0.000000</td>\n",
              "      <td>0.000000</td>\n",
              "      <td>0.000000</td>\n",
              "      <td>0.000000</td>\n",
              "    </tr>\n",
              "    <tr>\n",
              "      <th>25%</th>\n",
              "      <td>0.000000</td>\n",
              "      <td>0.000000</td>\n",
              "      <td>0.000000</td>\n",
              "      <td>0.000000</td>\n",
              "      <td>0.000000</td>\n",
              "      <td>0.000000</td>\n",
              "      <td>0.000000</td>\n",
              "      <td>1.000000</td>\n",
              "    </tr>\n",
              "    <tr>\n",
              "      <th>50%</th>\n",
              "      <td>0.000000</td>\n",
              "      <td>1.000000</td>\n",
              "      <td>0.000000</td>\n",
              "      <td>0.000000</td>\n",
              "      <td>0.000000</td>\n",
              "      <td>0.000000</td>\n",
              "      <td>0.000000</td>\n",
              "      <td>1.000000</td>\n",
              "    </tr>\n",
              "    <tr>\n",
              "      <th>75%</th>\n",
              "      <td>1.000000</td>\n",
              "      <td>1.000000</td>\n",
              "      <td>0.000000</td>\n",
              "      <td>1.000000</td>\n",
              "      <td>1.000000</td>\n",
              "      <td>1.000000</td>\n",
              "      <td>0.000000</td>\n",
              "      <td>1.000000</td>\n",
              "    </tr>\n",
              "    <tr>\n",
              "      <th>max</th>\n",
              "      <td>1.000000</td>\n",
              "      <td>1.000000</td>\n",
              "      <td>1.000000</td>\n",
              "      <td>1.000000</td>\n",
              "      <td>1.000000</td>\n",
              "      <td>1.000000</td>\n",
              "      <td>1.000000</td>\n",
              "      <td>1.000000</td>\n",
              "    </tr>\n",
              "  </tbody>\n",
              "</table>\n",
              "</div>"
            ],
            "text/plain": [
              "       Dependents_1  Married_Yes  ...  Credit_History_0  Credit_History_1\n",
              "count    614.000000   614.000000  ...        614.000000        614.000000\n",
              "mean       0.413681     0.651466  ...          0.161238          0.838762\n",
              "std        0.492894     0.476895  ...          0.368050          0.368050\n",
              "min        0.000000     0.000000  ...          0.000000          0.000000\n",
              "25%        0.000000     0.000000  ...          0.000000          1.000000\n",
              "50%        0.000000     1.000000  ...          0.000000          1.000000\n",
              "75%        1.000000     1.000000  ...          0.000000          1.000000\n",
              "max        1.000000     1.000000  ...          1.000000          1.000000\n",
              "\n",
              "[8 rows x 8 columns]"
            ]
          },
          "metadata": {
            "tags": []
          },
          "execution_count": 19
        }
      ]
    }
  ]
}